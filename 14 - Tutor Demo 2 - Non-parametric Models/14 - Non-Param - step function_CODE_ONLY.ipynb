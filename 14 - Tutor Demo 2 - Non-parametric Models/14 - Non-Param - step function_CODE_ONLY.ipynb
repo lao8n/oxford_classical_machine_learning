{
 "cells": [
  {
   "cell_type": "code",
   "execution_count": null,
   "metadata": {},
   "outputs": [],
   "source": [
    "import pandas as pd\n",
    "import matplotlib.pyplot as plt\n",
    "import numpy as np"
   ]
  },
  {
   "cell_type": "code",
   "execution_count": null,
   "metadata": {},
   "outputs": [],
   "source": [
    "filename = '03d - non_param_1.csv'\n",
    "df = pd.read_csv(filename)\n",
    "df"
   ]
  },
  {
   "cell_type": "code",
   "execution_count": null,
   "metadata": {},
   "outputs": [],
   "source": [
    "plt.figure(figsize=(8, 6))\n",
    "plt.plot(df['x'], df['y'], label='data', color='blue')\n",
    "plt.xlabel('X')\n",
    "plt.ylabel('Y')\n",
    "plt.legend()\n",
    "plt.grid(True)\n",
    "plt.show()"
   ]
  },
  {
   "cell_type": "code",
   "execution_count": null,
   "metadata": {},
   "outputs": [],
   "source": [
    "number_of_bins = 4"
   ]
  },
  {
   "cell_type": "code",
   "execution_count": null,
   "metadata": {},
   "outputs": [],
   "source": [
    "class StepModel:\n",
    "    def __init__(self, num_bins = 10):\n",
    "        self.num_bins = num_bins\n",
    "        self.x_thresholds = []         # Lower value of items in the bin\n",
    "        self.y_values = []             # Corresponding y value\n",
    "        self.x_min = 0\n",
    "        self.x_max = 0\n",
    "\n",
    "    def fit(self,x,y):\n",
    "        x_len = len(x)\n",
    "        y_len = len(y)\n",
    "        \n",
    "        # A little bit of sanity checking\n",
    "        if(x_len < self.num_bins ):   # more bins that data .. error out\n",
    "             raise ValueError(\"Error : More bins that data-points\")\n",
    "\n",
    "        # need to have equal amount of data in both x and y\n",
    "        if(x_len != y_len ):   \n",
    "             raise ValueError(\"Error : x and y data has different lengths\")\n",
    "\n",
    "        # Ensure that x values are sorted in increasing order \n",
    "        # (and that y values match!)\n",
    "        zipped_lists = list(zip(x, y))\n",
    "\n",
    "        # Sort the zipped list based on the values in x\n",
    "        sorted_zipped_lists = sorted(zipped_lists, key=lambda x: x[0]) \n",
    "        sorted_x, sorted_y = zip(*sorted_zipped_lists) \n",
    "        \n",
    "        # Create lists representing the bins (now sorted)\n",
    "        x_bins = np.array_split(sorted_x, self.num_bins)\n",
    "        y_bins = np.array_split(sorted_y, self.num_bins)\n",
    "\n",
    "        # Populate the model\n",
    "        for bin_x, bin_y in zip(x_bins, y_bins):\n",
    "            # The lower threshold for this bin \n",
    "            self.x_thresholds.append(min(bin_x))        \n",
    "            self.y_values.append(sum(bin_y) / len(bin_y))\n",
    "            \n",
    "        # Remember the maximum and minimum x values over which\n",
    "        # the model was trained\n",
    "        self.x_min = x[0]\n",
    "        self.x_max = bin_x[-1]\n",
    "    \n",
    "        \n",
    "    def get_results(self,x):\n",
    "        # print('-----------')\n",
    "        # print('x = ', x)\n",
    "        result = self.y_values[-1]\n",
    "        if (x < self.x_min):\n",
    "            # Any x less than the model training range \n",
    "            # is assumed to be at the low value\n",
    "            result = self.y_values[0]  \n",
    "        elif (x > self.x_max):\n",
    "            # Any x great than the model training range \n",
    "            # is assumed to be at the high value\n",
    "            result = self.y_values[-1] \n",
    "        else:\n",
    "            last_y = self.y_values[0]\n",
    "            for threshold,y in zip(self.x_thresholds, self.y_values):\n",
    "                if (x < threshold):\n",
    "                    result = last_y\n",
    "                    break\n",
    "                last_y = y\n",
    "\n",
    "        return (result)"
   ]
  },
  {
   "cell_type": "code",
   "execution_count": null,
   "metadata": {},
   "outputs": [],
   "source": [
    "step_model_obj = StepModel(20)"
   ]
  },
  {
   "cell_type": "code",
   "execution_count": null,
   "metadata": {},
   "outputs": [],
   "source": [
    "step_model_obj.fit(df['x'].to_list(), df['y'].to_list())"
   ]
  },
  {
   "cell_type": "code",
   "execution_count": null,
   "metadata": {},
   "outputs": [],
   "source": [
    "df['step'] = df['x'].apply(step_model_obj.get_results)"
   ]
  },
  {
   "cell_type": "code",
   "execution_count": null,
   "metadata": {},
   "outputs": [],
   "source": [
    "plt.figure(figsize=(8, 6))\n",
    "plt.plot(df['x'], df['y'], label='data', color='blue')\n",
    "plt.plot(df['x'], df['step'], label='model', color='red')\n",
    "plt.xlabel('X')\n",
    "plt.ylabel('Y')\n",
    "plt.legend()\n",
    "plt.grid(True)\n",
    "plt.show()"
   ]
  },
  {
   "cell_type": "code",
   "execution_count": null,
   "metadata": {},
   "outputs": [],
   "source": [
    "filename = '03d - non_param_2.csv'\n",
    "df = pd.read_csv(filename)"
   ]
  },
  {
   "cell_type": "code",
   "execution_count": null,
   "metadata": {},
   "outputs": [],
   "source": [
    "step_model_obj = StepModel(25)\n",
    "step_model_obj.fit(df['x'].to_list(), df['y'].to_list())\n",
    "df['step'] = df['x'].apply(step_model_obj.get_results)"
   ]
  },
  {
   "cell_type": "code",
   "execution_count": null,
   "metadata": {},
   "outputs": [],
   "source": [
    "plt.figure(figsize=(8, 6))\n",
    "plt.plot(df['x'], df['y'], label='data', color='blue')\n",
    "plt.plot(df['x'], df['step'], label='model', color='red')\n",
    "plt.xlabel('X')\n",
    "plt.ylabel('Y')\n",
    "plt.legend()\n",
    "plt.grid(True)\n",
    "plt.show()"
   ]
  },
  {
   "cell_type": "code",
   "execution_count": null,
   "metadata": {},
   "outputs": [],
   "source": [
    "filename = '03d - non_param_3.csv'\n",
    "df = pd.read_csv(filename)"
   ]
  },
  {
   "cell_type": "code",
   "execution_count": null,
   "metadata": {},
   "outputs": [],
   "source": [
    "step_model_obj = StepModel(30)\n",
    "step_model_obj.fit(df['x'].to_list(), df['y'].to_list())\n",
    "df['step'] = df['x'].apply(step_model_obj.get_results)"
   ]
  },
  {
   "cell_type": "code",
   "execution_count": null,
   "metadata": {},
   "outputs": [],
   "source": [
    "plt.figure(figsize=(8, 6))\n",
    "plt.plot(df['x'], df['y'], label='data', color='blue')\n",
    "plt.plot(df['x'], df['step'], label='model', color='red')\n",
    "plt.xlabel('X')\n",
    "plt.ylabel('Y')\n",
    "plt.legend()\n",
    "plt.grid(True)\n",
    "plt.show()"
   ]
  }
 ],
 "metadata": {
  "kernelspec": {
   "display_name": "Python 3",
   "language": "python",
   "name": "python3"
  },
  "language_info": {
   "codemirror_mode": {
    "name": "ipython",
    "version": 3
   },
   "file_extension": ".py",
   "mimetype": "text/x-python",
   "name": "python",
   "nbconvert_exporter": "python",
   "pygments_lexer": "ipython3",
   "version": "3.8.5"
  }
 },
 "nbformat": 4,
 "nbformat_minor": 4
}
